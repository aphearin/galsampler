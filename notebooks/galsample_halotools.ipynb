{
 "cells": [
  {
   "cell_type": "code",
   "execution_count": 1,
   "metadata": {},
   "outputs": [],
   "source": [
    "%matplotlib inline"
   ]
  },
  {
   "cell_type": "code",
   "execution_count": 2,
   "metadata": {},
   "outputs": [],
   "source": [
    "from halotools.sim_manager import CachedHaloCatalog\n",
    "halocat = CachedHaloCatalog(simname='bolplanck')\n",
    "\n",
    "from halotools.empirical_models import PrebuiltSubhaloModelFactory\n",
    "model = PrebuiltSubhaloModelFactory('behroozi10')\n",
    "\n",
    "model.populate_mock(halocat)"
   ]
  },
  {
   "cell_type": "code",
   "execution_count": 3,
   "metadata": {},
   "outputs": [],
   "source": [
    "mask = model.mock.galaxy_table['stellar_mass'] > 10**9.5\n",
    "source_galaxies = model.mock.galaxy_table[mask]\n",
    "host_halo_mask = source_galaxies['halo_upid'] == -1\n",
    "source_halos = source_galaxies[host_halo_mask]\n",
    "\n",
    "target_halos = halocat.halo_table[halocat.halo_table['halo_upid'] == -1]"
   ]
  },
  {
   "cell_type": "code",
   "execution_count": 4,
   "metadata": {},
   "outputs": [],
   "source": [
    "from galsampler import halo_bin_indices\n",
    "\n",
    "mpeak_bins = np.logspace(11, 15, 25)\n",
    "\n",
    "source_halo_bin_numbers = halo_bin_indices(mass=(source_halos['halo_mpeak'], mpeak_bins))\n",
    "target_halo_bin_numbers = halo_bin_indices(mass=(target_halos['halo_mpeak'], mpeak_bins))\n",
    "\n",
    "\n",
    "# unique_source_halo_hostids, idx_unique_source_halos = np.unique(source_galaxies['halo_hostid'], \n",
    "#                                                         return_index=True)\n",
    "\n",
    "\n",
    "# source_halo_cell_ids = halo_bin_indices(mass=(source_galaxies['halo_mpeak'][idx_unique_source_halos], mpeak_bins))\n",
    "\n",
    "# source_galaxies['cell_id'] = -1\n",
    "# source_galaxies['cell_id'][idx_unique_source_halos] = source_halo_cell_ids\n",
    "\n",
    "# from halotools.utils import crossmatch\n",
    "\n",
    "# idxA, idxB = crossmatch(source_galaxies['halo_hostid'], source_galaxies['halo_hostid'][idx_unique_source_halos])\n",
    "# source_galaxies['cell_id'][idxA] = source_galaxies['cell_id'][idx_unique_source_halos][idxB]\n"
   ]
  },
  {
   "cell_type": "code",
   "execution_count": 6,
   "metadata": {},
   "outputs": [],
   "source": [
    "from galsampler import source_halo_index_selection\n",
    "\n",
    "nhalo_min = 50\n",
    "selection_indices = source_halo_index_selection(source_halo_bin_numbers, target_halo_bin_numbers, nhalo_min, mpeak_bins)"
   ]
  },
  {
   "cell_type": "code",
   "execution_count": 9,
   "metadata": {},
   "outputs": [],
   "source": [
    "selected_halos = source_halos[selection_indices]"
   ]
  },
  {
   "cell_type": "code",
   "execution_count": null,
   "metadata": {},
   "outputs": [],
   "source": []
  }
 ],
 "metadata": {
  "kernelspec": {
   "display_name": "Python [conda root]",
   "language": "python",
   "name": "conda-root-py"
  },
  "language_info": {
   "codemirror_mode": {
    "name": "ipython",
    "version": 2
   },
   "file_extension": ".py",
   "mimetype": "text/x-python",
   "name": "python",
   "nbconvert_exporter": "python",
   "pygments_lexer": "ipython2",
   "version": "2.7.14"
  }
 },
 "nbformat": 4,
 "nbformat_minor": 2
}
