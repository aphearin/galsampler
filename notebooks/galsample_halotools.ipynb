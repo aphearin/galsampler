{
 "cells": [
  {
   "cell_type": "code",
   "execution_count": 1,
   "metadata": {},
   "outputs": [],
   "source": [
    "%matplotlib inline"
   ]
  },
  {
   "cell_type": "code",
   "execution_count": 2,
   "metadata": {},
   "outputs": [],
   "source": [
    "from halotools.sim_manager import CachedHaloCatalog\n",
    "halocat = CachedHaloCatalog(simname='bolplanck')\n",
    "\n",
    "from halotools.empirical_models import PrebuiltSubhaloModelFactory\n",
    "model = PrebuiltSubhaloModelFactory('behroozi10')\n",
    "\n",
    "model.populate_mock(halocat)"
   ]
  },
  {
   "cell_type": "code",
   "execution_count": 3,
   "metadata": {},
   "outputs": [],
   "source": [
    "mask = model.mock.galaxy_table['stellar_mass'] > 10**9.5\n",
    "source_galaxies = model.mock.galaxy_table[mask]\n",
    "host_halo_mask = source_galaxies['halo_upid'] == -1\n",
    "source_halos = source_galaxies[host_halo_mask]\n",
    "\n",
    "target_halos = halocat.halo_table[halocat.halo_table['halo_upid'] == -1]"
   ]
  },
  {
   "cell_type": "code",
   "execution_count": 4,
   "metadata": {},
   "outputs": [],
   "source": [
    "from galsampler import halo_bin_indices\n",
    "\n",
    "mpeak_bins = np.logspace(11, 15, 25)\n",
    "\n",
    "source_halos['bin_number'] = halo_bin_indices(mass=(source_halos['halo_mpeak'], mpeak_bins))\n",
    "target_halos['bin_number'] = halo_bin_indices(mass=(target_halos['halo_mpeak'], mpeak_bins))"
   ]
  },
  {
   "cell_type": "code",
   "execution_count": 5,
   "metadata": {},
   "outputs": [],
   "source": [
    "from galsampler.host_halo_selection import compute_richness\n",
    "\n",
    "source_halos['richness'] = compute_richness(source_halos['halo_id'], \n",
    "                                            source_galaxies['halo_hostid'])"
   ]
  },
  {
   "cell_type": "code",
   "execution_count": 6,
   "metadata": {},
   "outputs": [],
   "source": [
    "from galsampler import source_halo_index_selection\n",
    "\n",
    "nhalo_min = 50\n",
    "source_halo_selection_indices = source_halo_index_selection(source_halos['bin_number'],\n",
    "                                                target_halos['bin_number'],\n",
    "                                                nhalo_min, mpeak_bins)\n",
    "# selected_halos = source_halos[selection_indices]"
   ]
  },
  {
   "cell_type": "code",
   "execution_count": 7,
   "metadata": {},
   "outputs": [],
   "source": [
    "num_target_gals = np.sum(source_halos['richness'][source_halo_selection_indices])"
   ]
  },
  {
   "cell_type": "code",
   "execution_count": 8,
   "metadata": {},
   "outputs": [],
   "source": [
    "from halotools.utils import crossmatch\n",
    "\n",
    "idxA, idxB = crossmatch(source_galaxies['halo_hostid'].data, source_halos['halo_id'].data)\n",
    "\n",
    "source_galaxies['bin_number'] = 0\n",
    "source_galaxies['richness'] = 0\n",
    "\n",
    "source_galaxies['bin_number'][idxA] = source_halos['bin_number'][idxB]\n",
    "source_galaxies['richness'][idxA] = source_halos['richness'][idxB]\n",
    "\n",
    "source_galaxies.sort(['bin_number', 'halo_hostid'])"
   ]
  },
  {
   "cell_type": "code",
   "execution_count": 9,
   "metadata": {},
   "outputs": [],
   "source": [
    "selected_halo_ids = source_halos['halo_id'][source_halo_selection_indices]\n",
    "\n",
    "source_galaxy_selection_indices, __ = crossmatch(source_galaxies['halo_hostid'].data, \n",
    "                        source_halos['halo_hostid'].data)\n",
    "\n"
   ]
  },
  {
   "cell_type": "code",
   "execution_count": null,
   "metadata": {},
   "outputs": [],
   "source": []
  },
  {
   "cell_type": "code",
   "execution_count": null,
   "metadata": {},
   "outputs": [],
   "source": []
  },
  {
   "cell_type": "code",
   "execution_count": null,
   "metadata": {},
   "outputs": [],
   "source": []
  }
 ],
 "metadata": {
  "kernelspec": {
   "display_name": "Python [conda root]",
   "language": "python",
   "name": "conda-root-py"
  },
  "language_info": {
   "codemirror_mode": {
    "name": "ipython",
    "version": 2
   },
   "file_extension": ".py",
   "mimetype": "text/x-python",
   "name": "python",
   "nbconvert_exporter": "python",
   "pygments_lexer": "ipython2",
   "version": "2.7.14"
  }
 },
 "nbformat": 4,
 "nbformat_minor": 2
}
