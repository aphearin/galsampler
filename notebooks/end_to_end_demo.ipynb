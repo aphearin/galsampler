{
 "cells": [
  {
   "cell_type": "code",
   "execution_count": 1,
   "metadata": {},
   "outputs": [],
   "source": [
    "%matplotlib inline"
   ]
  },
  {
   "cell_type": "code",
   "execution_count": 2,
   "metadata": {},
   "outputs": [],
   "source": [
    "from halotools.sim_manager import CachedHaloCatalog\n",
    "halocat = CachedHaloCatalog(simname='bolplanck')\n",
    "\n",
    "from halotools.empirical_models import PrebuiltSubhaloModelFactory\n",
    "model = PrebuiltSubhaloModelFactory('behroozi10')\n",
    "\n",
    "model.populate_mock(halocat)"
   ]
  },
  {
   "cell_type": "code",
   "execution_count": 35,
   "metadata": {},
   "outputs": [],
   "source": [
    "mask = model.mock.galaxy_table['stellar_mass'] > 10**10.5\n",
    "source_galaxies = model.mock.galaxy_table[mask]\n",
    "host_halo_mask = source_galaxies['halo_upid'] == -1\n",
    "source_halos = source_galaxies[host_halo_mask]\n",
    "\n",
    "target_halos = halocat.halo_table[halocat.halo_table['halo_upid'] == -1]"
   ]
  },
  {
   "cell_type": "code",
   "execution_count": 42,
   "metadata": {},
   "outputs": [],
   "source": [
    "from galsampler import halo_bin_indices\n",
    "\n",
    "mhost_bins = np.logspace(10.5, 15.25, 25)\n",
    "\n",
    "source_halos['bin_number'] = halo_bin_indices(mass=(source_halos['halo_mvir_host_halo'], mhost_bins))\n",
    "target_halos['bin_number'] = halo_bin_indices(mass=(target_halos['halo_mvir_host_halo'], mhost_bins))"
   ]
  },
  {
   "cell_type": "code",
   "execution_count": 43,
   "metadata": {},
   "outputs": [],
   "source": [
    "# def source_galaxy_selection_indices(source_galaxies, source_halos, \n",
    "#                     target_halos, nhalo_min, *bins):\n",
    "#     \"\"\"\n",
    "#     \"\"\"\n",
    "#     pass"
   ]
  },
  {
   "cell_type": "code",
   "execution_count": 44,
   "metadata": {},
   "outputs": [],
   "source": [
    "from galsampler.end_to_end import source_galaxy_selection_indices\n",
    "\n",
    "source_galaxies_colnames=dict(host_halo_id='halo_hostid')\n",
    "nhalo_min = 25\n",
    "indices = source_galaxy_selection_indices(source_galaxies, source_halos, \n",
    "                    target_halos, nhalo_min, mpeak_bins, \n",
    "                    source_galaxies_colnames=source_galaxies_colnames)"
   ]
  },
  {
   "cell_type": "code",
   "execution_count": 45,
   "metadata": {},
   "outputs": [],
   "source": [
    "sample = source_galaxies[indices]\n"
   ]
  },
  {
   "cell_type": "code",
   "execution_count": 46,
   "metadata": {},
   "outputs": [
    {
     "name": "stdout",
     "output_type": "stream",
     "text": [
      "['halo_upid', 'halo_hostid', 'halo_mpeak', 'halo_x', 'halo_y', 'halo_id', 'halo_z', 'halo_vx', 'halo_vy', 'halo_vz', 'halo_rvir', 'halo_mvir', 'halo_mvir_host_halo', 'x', 'y', 'z', 'vx', 'vy', 'vz', 'galid', 'stellar_mass', 'bin_number', 'richness']\n"
     ]
    }
   ],
   "source": [
    "print(sample.keys())"
   ]
  },
  {
   "cell_type": "code",
   "execution_count": 48,
   "metadata": {},
   "outputs": [
    {
     "data": {
      "image/png": "[encoded data removed]",
      "text/plain": [
       "<matplotlib.figure.Figure at 0x136d47450>"
      ]
     },
     "metadata": {},
     "output_type": "display_data"
    }
   ],
   "source": [
    "fig, ax = plt.subplots(1, 1)\n",
    "\n",
    "sm_bins = np.linspace(10.5, 11, 30)\n",
    "__=ax.hist(np.log10(source_galaxies['stellar_mass']), normed=True, bins=sm_bins, \n",
    "          alpha=0.8, color='blue', label='source galaxies')\n",
    "__=ax.hist(np.log10(sample['stellar_mass']), normed=True, bins=sm_bins, \n",
    "          alpha=0.8, color='red', label='target galaxies')\n",
    "\n",
    "legend = ax.legend()"
   ]
  },
  {
   "cell_type": "code",
   "execution_count": null,
   "metadata": {},
   "outputs": [],
   "source": []
  }
 ],
 "metadata": {
  "kernelspec": {
   "display_name": "Python [conda root]",
   "language": "python",
   "name": "conda-root-py"
  },
  "language_info": {
   "codemirror_mode": {
    "name": "ipython",
    "version": 2
   },
   "file_extension": ".py",
   "mimetype": "text/x-python",
   "name": "python",
   "nbconvert_exporter": "python",
   "pygments_lexer": "ipython2",
   "version": "2.7.14"
  }
 },
 "nbformat": 4,
 "nbformat_minor": 2
}
