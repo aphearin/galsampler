{
 "cells": [
  {
   "cell_type": "code",
   "execution_count": 1,
   "metadata": {},
   "outputs": [],
   "source": [
    "%matplotlib inline"
   ]
  },
  {
   "cell_type": "markdown",
   "metadata": {},
   "source": [
    "## Test `bolplanck` ==> `bolplanck`"
   ]
  },
  {
   "cell_type": "code",
   "execution_count": 2,
   "metadata": {},
   "outputs": [],
   "source": [
    "from halotools.sim_manager import CachedHaloCatalog\n",
    "halocat = CachedHaloCatalog(simname='bolplanck')\n",
    "Vbox_source = np.prod(halocat.Lbox)\n",
    "\n",
    "from halotools.empirical_models import PrebuiltHodModelFactory\n",
    "model = PrebuiltHodModelFactory('cacciato09', prim_haloprop_key='halo_mvir')\n",
    "\n",
    "model.populate_mock(halocat)\n"
   ]
  },
  {
   "cell_type": "code",
   "execution_count": 3,
   "metadata": {},
   "outputs": [],
   "source": [
    "source_galaxies = model.mock.galaxy_table\n",
    "source_halos = model.mock.halo_table\n",
    "\n",
    "target_halocat = CachedHaloCatalog(simname='bolplanck')\n",
    "Vbox_target = np.prod(target_halocat.Lbox)\n",
    "target_host_halo_mask = target_halocat.halo_table['halo_upid'] == -1\n",
    "target_halos = target_halocat.halo_table[target_host_halo_mask]\n",
    "\n",
    "\n",
    "\n",
    "from galsampler import halo_bin_indices\n",
    "mhost_bins = np.logspace(11, 15, 50)\n",
    "\n",
    "source_halos['bin_number'] = halo_bin_indices(mass=(source_halos['halo_mvir'], mhost_bins))\n",
    "target_halos['bin_number'] = halo_bin_indices(mass=(target_halos['halo_mvir'], mhost_bins))\n"
   ]
  },
  {
   "cell_type": "code",
   "execution_count": 4,
   "metadata": {},
   "outputs": [
    {
     "name": "stdout",
     "output_type": "stream",
     "text": [
      "Source galaxy number density = 0.0060\n",
      "Target galaxy number density = 0.0060\n",
      "Fractional difference = -0.01\n"
     ]
    }
   ],
   "source": [
    "from galsampler.end_to_end import source_galaxy_selection_indices\n",
    "\n",
    "nhalo_min = 25\n",
    "indices = source_galaxy_selection_indices(source_galaxies['halo_hostid'], \n",
    "                        source_halos['halo_id'], source_halos['bin_number'], \n",
    "                        target_halos['bin_number'], nhalo_min, mhost_bins)\n",
    "\n",
    "target_galaxies = source_galaxies[indices]\n",
    "\n",
    "nd_source = len(source_galaxies)/Vbox_source\n",
    "nd_target = len(target_galaxies)/Vbox_target\n",
    "\n",
    "print(\"Source galaxy number density = {0:.4f}\".format(nd_source))\n",
    "print(\"Target galaxy number density = {0:.4f}\".format(nd_target))\n",
    "fracdiff = (nd_target-nd_source)/nd_source\n",
    "\n",
    "print(\"Fractional difference = {0:.2f}\".format(fracdiff))"
   ]
  },
  {
   "cell_type": "code",
   "execution_count": 5,
   "metadata": {},
   "outputs": [
    {
     "data": {
      "image/png": "[encoded data removed]",
      "text/plain": [
       "<matplotlib.figure.Figure at 0x11c13dd10>"
      ]
     },
     "metadata": {},
     "output_type": "display_data"
    }
   ],
   "source": [
    "fig, ax = plt.subplots(1, 1)\n",
    "\n",
    "bins = np.linspace(10, 11.5, 50)\n",
    "__=ax.hist(np.log10(source_galaxies['luminosity']), normed=True, bins=bins, \n",
    "          alpha=0.8, color='blue', label='source galaxies')\n",
    "__=ax.hist(np.log10(target_galaxies['luminosity']), normed=True, bins=bins, \n",
    "          alpha=0.8, color='red', label='target galaxies')\n",
    "\n",
    "legend = ax.legend()"
   ]
  },
  {
   "cell_type": "markdown",
   "metadata": {},
   "source": [
    "## Test `bolplanck` ==> `multidark`"
   ]
  },
  {
   "cell_type": "code",
   "execution_count": 6,
   "metadata": {},
   "outputs": [],
   "source": [
    "\n",
    "target_halocat = CachedHaloCatalog(simname='multidark')\n",
    "Vbox_target = np.prod(target_halocat.Lbox)\n",
    "target_host_halo_mask = target_halocat.halo_table['halo_upid'] == -1\n",
    "target_halos = target_halocat.halo_table[target_host_halo_mask]\n",
    "\n",
    "from galsampler import halo_bin_indices\n",
    "mhost_bins = np.logspace(11, 15, 50)\n",
    "\n",
    "target_halos['bin_number'] = halo_bin_indices(mass=(target_halos['halo_mvir'], mhost_bins))\n"
   ]
  },
  {
   "cell_type": "code",
   "execution_count": 7,
   "metadata": {},
   "outputs": [
    {
     "name": "stdout",
     "output_type": "stream",
     "text": [
      "Source galaxy number density = 0.0060\n",
      "Target galaxy number density = 0.0023\n",
      "Fractional difference = -0.62\n"
     ]
    }
   ],
   "source": [
    "from galsampler.end_to_end import source_galaxy_selection_indices\n",
    "\n",
    "nhalo_min = 25\n",
    "indices = source_galaxy_selection_indices(source_galaxies['halo_hostid'], \n",
    "                        source_halos['halo_id'], source_halos['bin_number'], \n",
    "                        target_halos['bin_number'], nhalo_min, mhost_bins)\n",
    "\n",
    "target_galaxies = source_galaxies[indices]\n",
    "\n",
    "nd_source = len(source_galaxies)/Vbox_source\n",
    "nd_target = len(target_galaxies)/Vbox_target\n",
    "\n",
    "print(\"Source galaxy number density = {0:.4f}\".format(nd_source))\n",
    "print(\"Target galaxy number density = {0:.4f}\".format(nd_target))\n",
    "fracdiff = (nd_target-nd_source)/nd_source\n",
    "\n",
    "print(\"Fractional difference = {0:.2f}\".format(fracdiff))"
   ]
  },
  {
   "cell_type": "code",
   "execution_count": 8,
   "metadata": {},
   "outputs": [
    {
     "data": {
      "image/png": "[encoded data removed]",
      "text/plain": [
       "<matplotlib.figure.Figure at 0x13dd50a90>"
      ]
     },
     "metadata": {},
     "output_type": "display_data"
    }
   ],
   "source": [
    "fig, ax = plt.subplots(1, 1)\n",
    "\n",
    "bins = np.linspace(10, 11.5, 50)\n",
    "__=ax.hist(np.log10(source_galaxies['luminosity']), normed=True, bins=bins, \n",
    "          alpha=0.8, color='blue', label='source galaxies')\n",
    "__=ax.hist(np.log10(target_galaxies['luminosity']), normed=True, bins=bins, \n",
    "          alpha=0.8, color='red', label='target galaxies')\n",
    "\n",
    "legend = ax.legend()"
   ]
  }
 ],
 "metadata": {
  "kernelspec": {
   "display_name": "Python [conda root]",
   "language": "python",
   "name": "conda-root-py"
  },
  "language_info": {
   "codemirror_mode": {
    "name": "ipython",
    "version": 2
   },
   "file_extension": ".py",
   "mimetype": "text/x-python",
   "name": "python",
   "nbconvert_exporter": "python",
   "pygments_lexer": "ipython2",
   "version": "2.7.14"
  }
 },
 "nbformat": 4,
 "nbformat_minor": 2
}
