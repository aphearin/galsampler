{
 "cells": [
  {
   "cell_type": "code",
   "execution_count": 1,
   "metadata": {},
   "outputs": [],
   "source": [
    "%matplotlib inline"
   ]
  },
  {
   "cell_type": "code",
   "execution_count": 13,
   "metadata": {},
   "outputs": [],
   "source": [
    "from halotools.sim_manager import CachedHaloCatalog\n",
    "halocat = CachedHaloCatalog(simname='bolplanck')\n",
    "\n",
    "from halotools.empirical_models import PrebuiltSubhaloModelFactory\n",
    "model = PrebuiltSubhaloModelFactory('behroozi10')\n",
    "\n",
    "model.populate_mock(halocat)\n",
    "\n",
    "from galsampler import halo_bin_indices\n",
    "\n",
    "logsm_low, logmhost_low = 10, 12\n",
    "mhost_bins = np.logspace(logmhost_low, 15, 50)\n",
    "\n",
    "galaxy_mask = model.mock.galaxy_table['stellar_mass'] > 10**logsm_low\n",
    "galaxy_mask *= model.mock.galaxy_table['halo_mvir_host_halo'] > 10**logmhost_low\n",
    "source_galaxies = model.mock.galaxy_table[galaxy_mask]\n",
    "\n",
    "host_halo_mask = halocat.halo_table['halo_upid'] == -1\n",
    "host_halo_mask *= halocat.halo_table['halo_mvir_host_halo'] > 10**logmhost_low\n",
    "source_halos = halocat.halo_table[host_halo_mask]\n",
    "\n",
    "target_halocat = CachedHaloCatalog(simname='multidark')\n",
    "target_host_halo_mask = target_halocat.halo_table['halo_upid'] == -1\n",
    "target_host_halo_mask *= target_halocat.halo_table['halo_mvir_host_halo'] > 10**logmhost_low\n",
    "target_halos = target_halocat.halo_table[target_host_halo_mask]\n",
    "\n",
    "\n",
    "source_halos['bin_number'] = halo_bin_indices(mass=(source_halos['halo_mvir_host_halo'], mhost_bins))\n",
    "target_halos['bin_number'] = halo_bin_indices(mass=(target_halos['halo_mvir_host_halo'], mhost_bins))"
   ]
  },
  {
   "cell_type": "code",
   "execution_count": 14,
   "metadata": {},
   "outputs": [
    {
     "name": "stdout",
     "output_type": "stream",
     "text": [
      "Source galaxy number density = 0.0067\n",
      "Target galaxy number density = 0.0032\n",
      "Fractional difference = -0.52\n"
     ]
    }
   ],
   "source": [
    "from galsampler.end_to_end import source_galaxy_selection_indices\n",
    "\n",
    "source_galaxies_colnames=dict(host_halo_id='halo_hostid')\n",
    "nhalo_min = 25\n",
    "indices = source_galaxy_selection_indices(source_galaxies['halo_hostid'], \n",
    "                        source_halos['halo_id'], source_halos['bin_number'], \n",
    "                        target_halos['bin_number'], nhalo_min, mhost_bins)\n",
    "\n",
    "target_galaxies = source_galaxies[indices]\n",
    "\n",
    "Vbox_source = np.prod(halocat.Lbox)\n",
    "Vbox_target = np.prod(target_halocat.Lbox)\n",
    "\n",
    "nd_source = len(source_galaxies)/Vbox_source\n",
    "nd_target = len(target_galaxies)/Vbox_target\n",
    "\n",
    "print(\"Source galaxy number density = {0:.4f}\".format(nd_source))\n",
    "print(\"Target galaxy number density = {0:.4f}\".format(nd_target))\n",
    "fracdiff = (nd_target-nd_source)/nd_source\n",
    "\n",
    "print(\"Fractional difference = {0:.2f}\".format(fracdiff))"
   ]
  },
  {
   "cell_type": "code",
   "execution_count": 15,
   "metadata": {},
   "outputs": [
    {
     "data": {
      "image/png": "[encoded data removed]",
      "text/plain": [
       "<matplotlib.figure.Figure at 0x11d11e3d0>"
      ]
     },
     "metadata": {},
     "output_type": "display_data"
    }
   ],
   "source": [
    "fig, ax = plt.subplots(1, 1)\n",
    "\n",
    "sm_bins = np.linspace(logsm_low, 11.5, 50)\n",
    "__=ax.hist(np.log10(source_galaxies['stellar_mass']), normed=True, bins=sm_bins, \n",
    "          alpha=0.8, color='blue', label='source galaxies')\n",
    "__=ax.hist(np.log10(target_galaxies['stellar_mass']), normed=True, bins=sm_bins, \n",
    "          alpha=0.8, color='red', label='target galaxies')\n",
    "\n",
    "legend = ax.legend()"
   ]
  },
  {
   "cell_type": "code",
   "execution_count": null,
   "metadata": {},
   "outputs": [],
   "source": []
  },
  {
   "cell_type": "code",
   "execution_count": null,
   "metadata": {},
   "outputs": [],
   "source": []
  }
 ],
 "metadata": {
  "kernelspec": {
   "display_name": "Python [conda root]",
   "language": "python",
   "name": "conda-root-py"
  },
  "language_info": {
   "codemirror_mode": {
    "name": "ipython",
    "version": 2
   },
   "file_extension": ".py",
   "mimetype": "text/x-python",
   "name": "python",
   "nbconvert_exporter": "python",
   "pygments_lexer": "ipython2",
   "version": "2.7.14"
  }
 },
 "nbformat": 4,
 "nbformat_minor": 2
}
